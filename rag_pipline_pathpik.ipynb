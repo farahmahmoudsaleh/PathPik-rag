{
  "cells": [
    {
      "cell_type": "markdown",
      "metadata": {
        "id": "HesPAwTgRGpC"
      },
      "source": [
        "# **configurations**"
      ]
    },
    {
      "cell_type": "code",
      "execution_count": null,
      "metadata": {
        "colab": {
          "base_uri": "https://localhost:8080/"
        },
        "collapsed": true,
        "id": "pwhwcj7lQbXu",
        "outputId": "a63bfa8c-b0d3-409c-f62d-eaa7d2c580ed"
      },
      "outputs": [],
      "source": [
        "!pip install chromadb langchain-community langchain requests together langchain-openai"
      ]
    },
    {
      "cell_type": "code",
      "execution_count": 2,
      "metadata": {
        "id": "oHJ-LmtBQ9wM"
      },
      "outputs": [],
      "source": [
        "import os\n",
        "import json\n",
        "import re\n",
        "import chromadb\n",
        "from chromadb import Client\n",
        "from chromadb.config import Settings\n",
        "from google.colab import drive\n",
        "from sklearn.metrics.pairwise import cosine_similarity\n",
        "import numpy as np\n",
        "from langchain.embeddings import HuggingFaceEmbeddings\n",
        "from together import Together\n",
        "from openai import OpenAI\n",
        "from langchain.chains import LLMChain\n",
        "from langchain.prompts import PromptTemplate\n",
        "from langchain_openai import OpenAI\n",
        "from langchain.schema.runnable import RunnablePassthrough, RunnableLambda\n",
        "from langchain.schema import StrOutputParser\n",
        "from langchain_openai import ChatOpenAI\n",
        "from sentence_transformers import SentenceTransformer, util"
      ]
    },
    {
      "cell_type": "code",
      "execution_count": 3,
      "metadata": {
        "colab": {
          "base_uri": "https://localhost:8080/"
        },
        "id": "9JjgsYOWRzLr",
        "outputId": "ac794057-6535-48fb-c023-2b6860f95667"
      },
      "outputs": [
        {
          "name": "stdout",
          "output_type": "stream",
          "text": [
            "Mounted at /content/drive\n"
          ]
        }
      ],
      "source": [
        "drive.mount('/content/drive')"
      ]
    },
    {
      "cell_type": "markdown",
      "metadata": {
        "id": "nvVSFSV6SkzX"
      },
      "source": [
        "## constants"
      ]
    },
    {
      "cell_type": "code",
      "execution_count": null,
      "metadata": {
        "id": "LwI5hXCGR8Ur"
      },
      "outputs": [],
      "source": [
        "open_ai_key = os.getenv(\"open_ai_key\")\n",
        "chroma_client_path=\"/content/drive/MyDrive/pathpik Data/chromadb\"\n",
        "collection_name=\"all_components\"\n",
        "output_dir = \"/content/drive/MyDrive/pathpik Data/outputs/rag-generated-11\""
      ]
    },
    {
      "cell_type": "code",
      "execution_count": 5,
      "metadata": {
        "id": "Q6d9wVW8Yg9R"
      },
      "outputs": [],
      "source": [
        "CSS_RESET = \"\"\"\n",
        "/* Global Reset and Consistent Base Styles */\n",
        "* {\n",
        "  margin: 0;\n",
        "  padding: 0;\n",
        "  box-sizing: border-box;\n",
        "}\n",
        "\n",
        "html, body {\n",
        "  width: 100%;\n",
        "  overflow-x: hidden;\n",
        "  margin: 0;\n",
        "  padding: 0;\n",
        "  scroll-behavior: smooth;\n",
        "}\n",
        "\n",
        "#root {\n",
        "  width: 100%;\n",
        "  margin: 0;\n",
        "  padding: 0;\n",
        "}\n",
        "\n",
        ".App {\n",
        "  width: 100%;\n",
        "  min-height: 100vh;\n",
        "  margin: 0;\n",
        "  padding: 0;\n",
        "  overflow-x: hidden;\n",
        "  position: relative;\n",
        "}\n",
        "\"\"\"\n",
        "\n",
        "CSS_VARIABLES = \"\"\"\n",
        "/* Global Design System Variables */\n",
        ":root {\n",
        "  --space-xs: 2px;\n",
        "  --space-sm: 4px;\n",
        "  --space-1: 8px;\n",
        "  --space-2: 12px;\n",
        "  --space-3: 16px;\n",
        "  --space-4: 20px;\n",
        "  --space-5: 24px;\n",
        "  --space-6: 32px;\n",
        "  --space-7: 40px;\n",
        "  --space-8: 48px;\n",
        "  --space-9: 64px;\n",
        "  --space-10: 80px;\n",
        "\n",
        "  --text-xs: 0.75rem;\n",
        "  --text-sm: 0.875rem;\n",
        "  --text-base: 1rem;\n",
        "  --text-lg: 1.125rem;\n",
        "  --text-xl: 1.25rem;\n",
        "  --text-2xl: 1.5rem;\n",
        "  --text-3xl: 1.875rem;\n",
        "  --text-4xl: 2.25rem;\n",
        "  --text-5xl: 3rem;\n",
        "\n",
        "  --leading-tight: 1.25;\n",
        "  --leading-normal: 1.5;\n",
        "  --leading-relaxed: 1.75;\n",
        "\n",
        "  --radius-none: 0;\n",
        "  --radius-sm: 0.125rem;\n",
        "  --radius-base: 0.25rem;\n",
        "  --radius-md: 0.375rem;\n",
        "  --radius-lg: 0.5rem;\n",
        "  --radius-xl: 0.75rem;\n",
        "  --radius-2xl: 1rem;\n",
        "  --radius-full: 9999px;\n",
        "\n",
        "  --shadow-sm: 0 1px 2px 0 rgba(0,0,0,0.05);\n",
        "  --shadow-base: 0 1px 3px 0 rgba(0,0,0,0.1), 0 1px 2px 0 rgba(0,0,0,0.06);\n",
        "  --shadow-md: 0 4px 6px -1px rgba(0,0,0,0.1), 0 2px 4px -1px rgba(0,0,0,0.06);\n",
        "  --shadow-lg: 0 10px 15px -3px rgba(0,0,0,0.1), 0 4px 6px -2px rgba(0,0,0,0.05);\n",
        "  --shadow-xl: 0 20px 25px -5px rgba(0,0,0,0.1), 0 10px 10px -5px rgba(0,0,0,0.04);\n",
        "  --shadow-inner: inset 0 2px 4px 0 rgba(0,0,0,0.06);\n",
        "\n",
        "  --z-0: 0;\n",
        "  --z-10: 10;\n",
        "  --z-20: 20;\n",
        "  --z-30: 30;\n",
        "  --z-40: 40;\n",
        "  --z-50: 50;\n",
        "\n",
        "  --breakpoint-sm: 640px;\n",
        "  --breakpoint-md: 768px;\n",
        "  --breakpoint-lg: 1024px;\n",
        "  --breakpoint-xl: 1280px;\n",
        "  --breakpoint-2xl: 1536px;\n",
        "\n",
        "  --section-gap: 0;\n",
        "  --component-padding: var(--space-6);\n",
        "}\n",
        "\"\"\""
      ]
    },
    {
      "cell_type": "code",
      "execution_count": 6,
      "metadata": {
        "id": "aO71s_DDYiQz"
      },
      "outputs": [],
      "source": [
        "CSS_UTILITIES = \"\"\"\n",
        "/* Utility Classes */\n",
        ".flex { display: flex; }\n",
        ".flex-col { flex-direction: column; }\n",
        ".items-center { align-items: center; }\n",
        ".justify-center { justify-content: center; }\n",
        ".justify-between { justify-content: space-between; }\n",
        "\n",
        ".w-full { width: 100%; }\n",
        ".h-full { height: 100%; }\n",
        ".relative { position: relative; }\n",
        ".absolute { position: absolute; }\n",
        ".text-center { text-align: center; }\n",
        ".font-bold { font-weight: bold; }\n",
        ".uppercase { text-transform: uppercase; }\n",
        ".transition-all { transition: all 0.2s ease-in-out; }\n",
        "\n",
        ".container {\n",
        "  width: 100%;\n",
        "  max-width: 1200px;\n",
        "  margin: 0 auto;\n",
        "  padding: 0 var(--space-4);\n",
        "}\n",
        "\"\"\""
      ]
    },
    {
      "cell_type": "code",
      "execution_count": 7,
      "metadata": {
        "id": "uxz4UWD4bV8t"
      },
      "outputs": [],
      "source": [
        "first_component_prompt = \"\"\"\n",
        "You are a SENIOR React developer and UI/UX expert. Create a PRODUCTION-QUALITY component that establishes excellence.\n",
        "\n",
        "COMPONENT QUERY: {component_query}\n",
        "BASE XML: {base_xml}\n",
        "\n",
        "EXCELLENCE STANDARDS:\n",
        "**VISUAL EXCELLENCE**:\n",
        "- Modern, clean, professional design that feels premium\n",
        "- Thoughtful use of whitespace and visual hierarchy\n",
        "- Sophisticated color combinations and gradients\n",
        "- Beautiful typography with proper scale and contrast\n",
        "- Subtle animations and micro-interactions for polish\n",
        "\n",
        "**TECHNICAL EXCELLENCE**:\n",
        "- Performance-optimized React code\n",
        "- Proper accessibility (ARIA labels, semantic HTML, keyboard navigation)\n",
        "- Responsive design that works on all devices\n",
        "- Clean, maintainable code structure\n",
        "- Error boundaries and loading states where appropriate\n",
        "\n",
        "**USER EXPERIENCE EXCELLENCE**:\n",
        "- Intuitive interactions and clear visual feedback\n",
        "- Smooth animations that enhance usability\n",
        "- Clear call-to-actions and user guidance\n",
        "- Fast loading and responsive interactions\n",
        "- Mobile-first responsive design\n",
        "\n",
        "MASTER DESIGN SYSTEM (copy exactly for consistency):\n",
        "```javascript\n",
        "const theme = {{\n",
        "  // Colors - Professional and modern palette\n",
        "  colors: {{\n",
        "    primary: '#2563eb',      // Professional blue\n",
        "    secondary: '#10b981',    // Success green\n",
        "    accent: '#8b5cf6',       // Purple accent\n",
        "    background: '#ffffff',   // Clean white\n",
        "    surface: '#f8fafc',      // Light gray surface\n",
        "    text: '#0f172a',         // Deep text\n",
        "    textSecondary: '#64748b', // Muted text\n",
        "    border: '#e2e8f0',       // Subtle borders\n",
        "    error: '#ef4444',        // Error red\n",
        "    warning: '#f59e0b',      // Warning amber\n",
        "    success: '#10b981',      // Success green\n",
        "  }},\n",
        "\n",
        "  // Typography scale\n",
        "  typography: {{\n",
        "    fontFamily: \"'Inter', -apple-system, BlinkMacSystemFont, 'Segoe UI', sans-serif\",\n",
        "    fontSize: {{\n",
        "      xs: '12px',\n",
        "      sm: '14px',\n",
        "      base: '16px',\n",
        "      lg: '18px',\n",
        "      xl: '20px',\n",
        "      '2xl': '24px',\n",
        "      '3xl': '30px',\n",
        "      '4xl': '36px'\n",
        "    }},\n",
        "    fontWeight: {{\n",
        "      light: 300,\n",
        "      normal: 400,\n",
        "      medium: 500,\n",
        "      semibold: 600,\n",
        "      bold: 700,\n",
        "      extrabold: 800\n",
        "    }}\n",
        "  }},\n",
        "\n",
        "  // Spacing system (8px base)\n",
        "  spacing: {{\n",
        "    xs: '4px',\n",
        "    sm: '8px',\n",
        "    md: '16px',\n",
        "    lg: '24px',\n",
        "    xl: '32px',\n",
        "    '2xl': '48px',\n",
        "    '3xl': '64px',\n",
        "    '4xl': '96px'\n",
        "  }},\n",
        "\n",
        "  // Border radius\n",
        "  borderRadius: {{\n",
        "    sm: '4px',\n",
        "    md: '8px',\n",
        "    lg: '12px',\n",
        "    xl: '16px',\n",
        "    '2xl': '24px',\n",
        "    full: '999px'\n",
        "  }},\n",
        "\n",
        "  // Shadows\n",
        "  boxShadow: {{\n",
        "    sm: '0 1px 2px 0 rgba(0, 0, 0, 0.05)',\n",
        "    md: '0 4px 6px -1px rgba(0, 0, 0, 0.1)',\n",
        "    lg: '0 10px 15px -3px rgba(0, 0, 0, 0.1)',\n",
        "    xl: '0 20px 25px -5px rgba(0, 0, 0, 0.1)',\n",
        "    '2xl': '0 25px 50px -12px rgba(0, 0, 0, 0.25)'\n",
        "  }},\n",
        "\n",
        "  // Animations\n",
        "  transition: {{\n",
        "    fast: '150ms ease-in-out',\n",
        "    normal: '250ms ease-in-out',\n",
        "    slow: '350ms ease-in-out'\n",
        "  }}\n",
        "}};\n",
        "```\n",
        "\n",
        "PREMIUM COMPONENT FEATURES TO INCLUDE:\n",
        "- **Micro-animations**: Hover effects, smooth transitions, loading states\n",
        "- **Advanced interactions**: Progressive disclosure, smart defaults\n",
        "- **Visual polish**: Subtle gradients, perfect spacing, elegant typography\n",
        "- **Accessibility**: Full keyboard navigation, screen reader support\n",
        "- **Performance**: Optimized images, lazy loading, efficient rendering\n",
        "- **Responsive**: Mobile-first, touch-friendly, adaptive layouts\n",
        "\n",
        "MODERN DESIGN PATTERNS:\n",
        "- Glass morphism effects for cards/modals\n",
        "- Gradient overlays and backgrounds\n",
        "- Rounded corners and soft shadows\n",
        "- Generous whitespace and breathing room\n",
        "- Clear visual hierarchy with size/weight/color\n",
        "- Consistent button styles and states\n",
        "\n",
        "COMPONENT STRUCTURE:\n",
        "```jsx\n",
        "import React, {{ useState, useEffect, useCallback }} from 'react';\n",
        "\n",
        "const ComponentName = () => {{\n",
        "  const theme = {{ /* Design system above */ }};\n",
        "\n",
        "  // State management\n",
        "  const [state, setState] = useState();\n",
        "\n",
        "  // Performance optimizations\n",
        "  const optimizedFunction = useCallback(() => {{}}, []);\n",
        "\n",
        "  // Accessibility and interactions\n",
        "  useEffect(() => {{\n",
        "    // Setup keyboard listeners, observers, etc.\n",
        "  }}, []);\n",
        "\n",
        "  return (\n",
        "    <section\n",
        "      role=\"main\"\n",
        "      aria-labelledby=\"section-title\"\n",
        "      style={{{{ ...theme, /* CSS-in-JS styles */ }}}}\n",
        "    >\n",
        "      {{/* Premium, accessible, responsive JSX */}}\n",
        "    </section>\n",
        "  );\n",
        "}};\n",
        "\n",
        "export default ComponentName;\n",
        "```\n",
        "\n",
        "Create a PRODUCTION-READY component that showcases modern React and design excellence.\n",
        "Return only the complete, polished React component code:\n",
        "\"\"\""
      ]
    },
    {
      "cell_type": "code",
      "execution_count": 8,
      "metadata": {
        "id": "FVlFDaGDcMXq"
      },
      "outputs": [],
      "source": [
        "components_prompt = \"\"\"\n",
        "You are a SENIOR React developer continuing a PREMIUM design system. Maintain EXCELLENCE while ensuring SEAMLESS integration.\n",
        "\n",
        "COMPONENT QUERY: {component_query}\n",
        "BASE XML: {base_xml}\n",
        "\n",
        "ESTABLISHED DESIGN SYSTEM:\n",
        "{previous_design_system}\n",
        "\n",
        "PREVIOUS COMPONENT (for visual continuity):\n",
        "{previous_component_code}\n",
        "\n",
        "COMPONENT CONTEXT: {component_context}\n",
        "\n",
        "Rules:\n",
        "- EXTRACT and USE the exact CSS variables from the previous component\n",
        "- Match colors, fonts, spacing, and visual style perfectly\n",
        "- Ensure this component will look cohesive with the previous one\n",
        "- Use the same design patterns and visual hierarchy\n",
        "\n",
        "Return a PRODUCTION-QUALITY component that seamlessly continues the established excellence:\n",
        "\"\"\""
      ]
    },
    {
      "cell_type": "code",
      "execution_count": 9,
      "metadata": {
        "id": "eaf_WpWQc2V3"
      },
      "outputs": [],
      "source": [
        "package_json_config = {\n",
        "    \"name\": \"generated-react-app\",\n",
        "    \"version\": \"0.1.0\",\n",
        "    \"private\": True,\n",
        "    \"dependencies\": {\n",
        "        \"react\": \"^18.2.0\",\n",
        "        \"react-dom\": \"^18.2.0\",\n",
        "        \"react-scripts\": \"5.0.1\"\n",
        "    },\n",
        "    \"scripts\": {\n",
        "        \"start\": \"react-scripts start\",\n",
        "        \"build\": \"react-scripts build\",\n",
        "        \"test\": \"react-scripts test\",\n",
        "        \"eject\": \"react-scripts eject\"\n",
        "    },\n",
        "    \"browserslist\": {\n",
        "        \"production\": [\n",
        "            \">0.2%\",\n",
        "            \"not dead\",\n",
        "            \"not op_mini all\"\n",
        "        ],\n",
        "        \"development\": [\n",
        "            \"last 1 chrome version\",\n",
        "            \"last 1 firefox version\",\n",
        "            \"last 1 safari version\"\n",
        "        ]\n",
        "    }\n",
        "}"
      ]
    },
    {
      "cell_type": "code",
      "execution_count": 10,
      "metadata": {
        "id": "1lgviA9Mc_ZT"
      },
      "outputs": [],
      "source": [
        "index_js_template = '''import React from 'react';\n",
        "import ReactDOM from 'react-dom/client';\n",
        "import './index.css';\n",
        "import App from './App';\n",
        "\n",
        "const root = ReactDOM.createRoot(document.getElementById('root'));\n",
        "root.render(\n",
        "  <React.StrictMode>\n",
        "    <App />\n",
        "  </React.StrictMode>\n",
        ");\n",
        "'''"
      ]
    },
    {
      "cell_type": "code",
      "execution_count": 16,
      "metadata": {
        "id": "5clN66IRdH-i"
      },
      "outputs": [],
      "source": [
        "index_css_template = '''* {\n",
        "  margin: 0;\n",
        "  padding: 0;\n",
        "  box-sizing: border-box;\n",
        "}\n",
        "\n",
        "body {\n",
        "  font-family: -apple-system, BlinkMacSystemFont, 'Segoe UI', 'Roboto', sans-serif;\n",
        "  -webkit-font-smoothing: antialiased;\n",
        "  -moz-osx-font-smoothing: grayscale;\n",
        "}\n",
        "\n",
        "#root {\n",
        "  min-height: 100vh;\n",
        "}\n",
        "'''"
      ]
    },
    {
      "cell_type": "code",
      "execution_count": 17,
      "metadata": {
        "id": "aQSaKWzpdNX_"
      },
      "outputs": [],
      "source": [
        "index_html_template = \"\"\"\n",
        "<!DOCTYPE html>\n",
        "<html lang=\"en\">\n",
        "<head>\n",
        "    <meta charset=\"utf-8\" />\n",
        "    <meta name=\"viewport\" content=\"width=device-width, initial-scale=1\" />\n",
        "    <title>Generated React App</title>\n",
        "</head>\n",
        "<body>\n",
        "    <noscript>You need to enable JavaScript to run this app.</noscript>\n",
        "    <div id=\"root\"></div>\n",
        "</body>\n",
        "</html>\n",
        "\"\"\""
      ]
    },
    {
      "cell_type": "code",
      "execution_count": 18,
      "metadata": {
        "id": "U7X80qx6dS2Y"
      },
      "outputs": [],
      "source": [
        "readme_template = \"\"\"\n",
        "# Generated React App\n",
        "\n",
        "This React application was generated based on your requirements.\n",
        "\n",
        "## Generated Components:\n",
        "{components_list}\n",
        "\n",
        "## Setup Instructions:\n",
        "\n",
        "1. Install dependencies:\n",
        "   ```bash\n",
        "   npm install\n",
        "   ```\n",
        "\n",
        "2. Start development server:\n",
        "   ```bash\n",
        "   npm start\n",
        "   ```\n",
        "\n",
        "3. Build for production:\n",
        "   ```bash\n",
        "   npm run build\n",
        "   ```\n",
        "\n",
        "## Project Structure:\n",
        "- src/components/: Individual React components\n",
        "- src/App.js: Main app component that imports all components\n",
        "- src/index.js: React app entry point\n",
        "- public/index.html: HTML template\n",
        "\"\"\""
      ]
    },
    {
      "cell_type": "code",
      "execution_count": 19,
      "metadata": {
        "id": "xTI9fSBKeWiR"
      },
      "outputs": [],
      "source": [
        "app_template = \"\"\"\n",
        "Create a main React App component that imports and uses all the generated components.\n",
        "\n",
        "USER'S ORIGINAL REQUEST: {user_query}\n",
        "\n",
        "GENERATED COMPONENTS:\n",
        "{components_info}\n",
        "\n",
        " DESIGN SYSTEM:\n",
        "{design_system}\n",
        "\n",
        "Create an `App.js` file that:\n",
        "- Imports all the generated components\n",
        "- Calls them directly inside the main App component\n",
        "- Keeps a clean, minimal structure (no extra wrappers or divs unless absolutely necessary)\n",
        "- Ensures responsive layout by letting each component handle its own styling\n",
        "- Use a single top-level <div> with basic classes like `min-h-screen bg-background` for consistency\n",
        "\n",
        "Example structure:\n",
        "```jsx\n",
        "import {{ Header }} from './components/Header';\n",
        "import {{ HeroSection }} from './components/HeroSection';\n",
        "import {{ SimpleFooter }} from './components/SimpleFooter';\n",
        "\n",
        "export default function App() {{\n",
        "  return (\n",
        "    {{`\n",
        "    <div className=\"min-h-screen bg-background\">\n",
        "      <Header />\n",
        "      <HeroSection />\n",
        "      <SimpleFooter />\n",
        "    </div>\n",
        "    `}}\n",
        "  );\n",
        "}}\n",
        "\"\"\""
      ]
    },
    {
      "cell_type": "markdown",
      "metadata": {
        "id": "yz9_3fPdSrhu"
      },
      "source": [
        "## client"
      ]
    },
    {
      "cell_type": "code",
      "execution_count": 20,
      "metadata": {
        "id": "nLaPbrvhSSXp"
      },
      "outputs": [],
      "source": [
        "chroma_client = chromadb.PersistentClient(path=chroma_client_path)\n",
        "components_collection = chroma_client.get_or_create_collection(name=collection_name)\n",
        "openai_client = OpenAI(api_key=open_ai_key)"
      ]
    },
    {
      "cell_type": "markdown",
      "metadata": {
        "id": "cY8YRSNkTK_A"
      },
      "source": [
        "## user query"
      ]
    },
    {
      "cell_type": "code",
      "execution_count": 21,
      "metadata": {
        "id": "iQBj7232THrL"
      },
      "outputs": [],
      "source": [
        "user_query = \"\"\"Create a modern, visually engaging landing page targeted at creative professionals.\n",
        "At the top, include a sleek navigation bar with a logo on the left, simple menu links (with \"Team\" highlighted), and a contrasting \"Join Us\" button on the right.\n",
        "The hero section should feature a warm gradient background, large welcoming headline, and a subtle illustration showing creative collaboration in action.\n",
        "Just below, highlight the team members section with professional photos, names, roles, and short bios arranged in a neat grid layout to showcase diversity and expertise.\n",
        "Finish with a minimalist footer that includes social media links, contact email, and a small copyright.\n",
        "The overall theme should use red as the primary accent color for buttons, highlights, and visual emphasis.\"\"\""
      ]
    },
    {
      "cell_type": "markdown",
      "metadata": {
        "id": "EIt6IEuoTTBU"
      },
      "source": [
        "# **Functions**"
      ]
    },
    {
      "cell_type": "code",
      "execution_count": 22,
      "metadata": {
        "id": "1OapqtY3TPdj"
      },
      "outputs": [],
      "source": [
        "# Initialize LLM\n",
        "\n",
        "def init_langchain_llm(api_key):\n",
        "    return ChatOpenAI(\n",
        "        api_key=api_key,\n",
        "        model_name=\"gpt-5\",\n",
        "        temperature=0.3,\n",
        "        max_tokens=100000,\n",
        "\n",
        "    )"
      ]
    },
    {
      "cell_type": "code",
      "execution_count": 23,
      "metadata": {
        "id": "tc9yUcRxTfBb"
      },
      "outputs": [],
      "source": [
        "# function to extract subqueries from user query\n",
        "\n",
        "def extract_subqueries(llm):\n",
        "    template = \"\"\"\n",
        "    Extract UI component queries from this user request.\n",
        "\n",
        "    User Query: {user_query}\n",
        "\n",
        "    Return a JSON list of component queries. Each query should be:\n",
        "    - Fully self-contained with all details from original query\n",
        "    - Focused on a single UI component\n",
        "    - Written as a standalone UI request\n",
        "\n",
        "    Add default header/footer if not mentioned.\n",
        "\n",
        "    Return only JSON array: [\"query1\", \"query2\", ...]\n",
        "    \"\"\"\n",
        "\n",
        "    prompt = PromptTemplate(template=template, input_variables=[\"user_query\"])\n",
        "    return prompt | llm | StrOutputParser()\n"
      ]
    },
    {
      "cell_type": "code",
      "execution_count": 24,
      "metadata": {
        "id": "H_nCiYZ3ZGIs"
      },
      "outputs": [],
      "source": [
        "# Parses a response to extract component queries. Handles dictionaries, lists, JSON strings, or plain text by returning a cleaned list of query strings.\n",
        "\n",
        "def parse_component_queries(response_text):\n",
        "    try:\n",
        "        # Handle if response is already parsed (dict/list)\n",
        "        if isinstance(response_text, (list, dict)):\n",
        "            if isinstance(response_text, list):\n",
        "                return response_text\n",
        "            else:\n",
        "                return [response_text]\n",
        "\n",
        "        # Try to parse as JSON string\n",
        "        return json.loads(response_text)\n",
        "    except:\n",
        "        # Fallback: split by lines and clean\n",
        "        if hasattr(response_text, 'split'):\n",
        "            lines = [line.strip().strip('\"').strip(\"'\") for line in response_text.split('\\n') if line.strip()]\n",
        "            return [line for line in lines if len(line) > 10]\n",
        "        else:\n",
        "            # If it's not a string, convert to string first\n",
        "            return [str(response_text)]"
      ]
    },
    {
      "cell_type": "code",
      "execution_count": 25,
      "metadata": {
        "id": "w_caH4iKVBgx"
      },
      "outputs": [],
      "source": [
        "# retrieve the svg code of the component from chroma collection\n",
        "\n",
        "def retrieve_xml(query, comp_collection, metadata_filter=None, n_results=1):\n",
        "\n",
        "    try:\n",
        "        query_results = comp_collection.query(\n",
        "            query_texts=[query],\n",
        "            n_results=n_results,\n",
        "            where=metadata_filter if metadata_filter else {}  # apply filter only if provided\n",
        "        )\n",
        "\n",
        "        if not query_results[\"ids\"] or not query_results[\"ids\"][0]:\n",
        "            return None\n",
        "\n",
        "        # Return first result XML\n",
        "        xml_code = query_results[\"metadatas\"][0][0].get(\"xml_code\")\n",
        "        return xml_code\n",
        "\n",
        "    except Exception as e:\n",
        "        print(f\"Error retrieving XML: {e}\")\n",
        "        return None"
      ]
    },
    {
      "cell_type": "code",
      "execution_count": 26,
      "metadata": {
        "id": "iVK-NBFoVRFz"
      },
      "outputs": [],
      "source": [
        "# function to extract metadata from query\n",
        "\n",
        "def extract_metadata(llm):\n",
        "    template = \"\"\"\n",
        "    Extract detailed metadata from the following UI component description.\n",
        "    Return only valid JSON without any markdown formatting or code blocks.\n",
        "    Use this exact structure and format:\n",
        "\n",
        "    {{\n",
        "      \"component_name\": \"string\",\n",
        "      \"device\": \"string\",\n",
        "      \"theme\": \"string\",\n",
        "      \"layout\": \"string\",\n",
        "      \"domain\": \"string\",\n",
        "      \"interactions\": [\"array\", \"of\", \"strings\"],\n",
        "      \"accessibility\": [\"array\", \"of\", \"strings\"],\n",
        "      \"style\": [\"array\", \"of\", \"strings\"],\n",
        "      \"purpose\": [\"array\", \"of\", \"strings\"],\n",
        "      \"other\": [\"array\", \"of\", \"strings\"]\n",
        "    }}\n",
        "\n",
        "    Use lowercase, hyphenated values where appropriate. Arrays should contain relevant string values, or be empty arrays [] if not applicable.\n",
        "\n",
        "    Description: \"{description}\"\n",
        "    \"\"\"\n",
        "\n",
        "    prompt = PromptTemplate(template=template, input_variables=[\"description\"])\n",
        "    chain = prompt | llm | StrOutputParser()\n",
        "\n",
        "    def _parse_output(description: str):\n",
        "        try:\n",
        "            content = chain.invoke({\"description\": description}).strip()\n",
        "            metadata = json.loads(content)\n",
        "        except Exception as e:\n",
        "            print(f\"Parsing failed: {e}\")\n",
        "            metadata = {}\n",
        "\n",
        "        # ---- Apply defaults ----\n",
        "        defaults = {\n",
        "            \"component_name\": \"unspecified\",\n",
        "            \"device\": \"unspecified\",\n",
        "            \"theme\": \"unspecified\",\n",
        "            \"layout\": \"unspecified\",\n",
        "            \"domain\": \"unspecified\",\n",
        "            \"interactions\": [],\n",
        "            \"accessibility\": [],\n",
        "            \"style\": [],\n",
        "            \"purpose\": [],\n",
        "            \"other\": []\n",
        "        }\n",
        "        for key, value in defaults.items():\n",
        "            metadata.setdefault(key, value)\n",
        "\n",
        "        # ---- Normalize arrays ----\n",
        "        for key in [\"interactions\", \"accessibility\", \"style\", \"purpose\", \"other\"]:\n",
        "            if isinstance(metadata[key], list):\n",
        "                metadata[key] = list({s.lower().replace(\" \", \"-\") for s in metadata[key]})\n",
        "\n",
        "        # ---- Normalize strings ----\n",
        "        for key in [\"component_name\", \"device\", \"theme\", \"layout\", \"domain\"]:\n",
        "            if key in metadata and isinstance(metadata[key], str):\n",
        "                metadata[key] = metadata[key].lower().replace(\" \", \"-\")\n",
        "\n",
        "        return metadata\n",
        "\n",
        "    return _parse_output"
      ]
    },
    {
      "cell_type": "code",
      "execution_count": 27,
      "metadata": {
        "id": "7hsw6jxoVlXo"
      },
      "outputs": [],
      "source": [
        "# filter metadata\n",
        "\n",
        "def clean_metadata(metadata: dict) -> dict:\n",
        "\n",
        "    allowed_keys = [\"component_name\", \"device\", \"theme\", \"layout\", \"domain\"]\n",
        "    conditions = []\n",
        "\n",
        "    for key in allowed_keys:\n",
        "        val = metadata.get(key, None)\n",
        "        if val and val != \"unspecified\":\n",
        "            conditions.append({key: {\"$eq\": val}})\n",
        "\n",
        "    return {\"$and\": conditions} if conditions else {}"
      ]
    },
    {
      "cell_type": "code",
      "execution_count": 28,
      "metadata": {
        "id": "be7-b0-4VzpA"
      },
      "outputs": [],
      "source": [
        "# Extract a comprehensive design system from component code\n",
        "\n",
        "def extract_design_system_comprehensive(component_code):\n",
        "\n",
        "    # Extract the baseVars object more accurately\n",
        "    base_vars_pattern = r'const baseVars = \\{([^}]+(?:\\{[^}]*\\}[^}]*)*)\\}'\n",
        "    base_vars_match = re.search(base_vars_pattern, component_code, re.DOTALL)\n",
        "\n",
        "    # Extract theme objects\n",
        "    theme_pattern = r'const theme = \\{([^}]+(?:\\{[^}]*\\}[^}]*)*)\\}'\n",
        "    theme_match = re.search(theme_pattern, component_code, re.DOTALL)\n",
        "\n",
        "    # Extract CSS variables\n",
        "    css_vars = re.findall(r'--[\\w-]+:\\s*[^;,}]+', component_code)\n",
        "\n",
        "    # Extract colors more precisely\n",
        "    colors = re.findall(r'(?:#[0-9a-fA-F]{6}|#[0-9a-fA-F]{3}|rgb\\([^)]+\\)|hsl\\([^)]+\\)|rgba\\([^)]+\\))', component_code)\n",
        "\n",
        "    # Extract fonts\n",
        "    fonts = re.findall(r'fontFamily.*?[\"\\']([^\"\\']+)[\"\\']', component_code)\n",
        "\n",
        "    # Extract spacing patterns\n",
        "    spacing = re.findall(r'(?:padding|margin).*?[\"\\']([^\"\\']+)[\"\\']', component_code)\n",
        "\n",
        "    # Extract background patterns\n",
        "    backgrounds = re.findall(r'background(?:-color)?:\\s*[\"\\']?([^\"\\';\\s}]+)[\"\\']?', component_code)\n",
        "\n",
        "    return {\n",
        "        'base_vars': base_vars_match.group(1) if base_vars_match else \"\",\n",
        "        'theme_object': theme_match.group(1) if theme_match else \"\",\n",
        "        'css_variables': list(set(css_vars)),\n",
        "        'colors': list(set(colors)),\n",
        "        'fonts': list(set(fonts)),\n",
        "        'spacing': list(set(spacing)),\n",
        "        'backgrounds': list(set(backgrounds)),\n",
        "        'layout_patterns': re.findall(r'(?:display|flexDirection|justifyContent|alignItems).*?[\"\\']([^\"\\']+)[\"\\']', component_code)\n",
        "    }"
      ]
    },
    {
      "cell_type": "code",
      "execution_count": 29,
      "metadata": {
        "id": "peTYqXRhW3Xw"
      },
      "outputs": [],
      "source": [
        "# Create comprehensive CSS for consistent global styles\n",
        "\n",
        "def create_global_styles_file(components, output_dir):\n",
        "\n",
        "    # Combine all CSS blocks\n",
        "    css_content = CSS_RESET + CSS_VARIABLES + CSS_UTILITIES\n",
        "\n",
        "    css_path = os.path.join(output_dir, \"src\", \"App.css\")\n",
        "    os.makedirs(os.path.dirname(css_path), exist_ok=True)\n",
        "\n",
        "    with open(css_path, \"w\", encoding=\"utf-8\") as f:\n",
        "        f.write(css_content)\n",
        "\n",
        "    return css_path"
      ]
    },
    {
      "cell_type": "markdown",
      "metadata": {
        "id": "mDRzKFihazVl"
      },
      "source": [
        "# **pipeline**"
      ]
    },
    {
      "cell_type": "code",
      "execution_count": 30,
      "metadata": {
        "id": "9mROs4C7Y0AF"
      },
      "outputs": [],
      "source": [
        "# Creates the initial component that establishes the design system foundation\n",
        "\n",
        "def create_first_react_component_chain(llm):\n",
        "    prompt = PromptTemplate(\n",
        "        template=first_component_prompt,\n",
        "        input_variables=[\"component_query\", \"base_xml\", \"original_query\"]\n",
        "    )\n",
        "    return prompt | llm | StrOutputParser()"
      ]
    },
    {
      "cell_type": "code",
      "execution_count": 31,
      "metadata": {
        "id": "YPrEVP-gb9be"
      },
      "outputs": [],
      "source": [
        "# Creates follow-up components that maintain visual continuity with previous ones\n",
        "# Extracts and reuses design patterns from existing components\n",
        "# Ensures seamless integration and cohesive user experience across components\n",
        "\n",
        "def create_subsequent_react_component_chain(llm):\n",
        "    prompt = PromptTemplate(\n",
        "        template=components_prompt,\n",
        "        input_variables=[\"component_query\", \"base_xml\", \"previous_design_system\", \"previous_component_code\", \"component_context\"]\n",
        "    )\n",
        "    return prompt | llm | StrOutputParser()"
      ]
    },
    {
      "cell_type": "code",
      "execution_count": 32,
      "metadata": {
        "id": "pvazVa6hcVsS"
      },
      "outputs": [],
      "source": [
        "# Create necessary React project files\n",
        "\n",
        "def create_react_project_files(output_dir, components):\n",
        "\n",
        "    # Create package.json\n",
        "    with open(os.path.join(output_dir, \"package.json\"), \"w\") as f:\n",
        "        json.dump(package_json_config, f, indent=2)\n",
        "\n",
        "    # Create index.js\n",
        "    with open(os.path.join(output_dir, \"src\", \"index.js\"), \"w\") as f:\n",
        "        f.write(index_js_template)\n",
        "\n",
        "    # Create index.css\n",
        "    with open(os.path.join(output_dir, \"src\", \"index.css\"), \"w\") as f:\n",
        "        f.write(index_css_template)\n",
        "\n",
        "    # Create public/index.html\n",
        "    public_dir = os.path.join(output_dir, \"public\")\n",
        "    os.makedirs(public_dir, exist_ok=True)\n",
        "\n",
        "    with open(os.path.join(public_dir, \"index.html\"), \"w\") as f:\n",
        "        f.write(index_html_template)\n",
        "\n",
        "    # Create README.md\n",
        "    components_list = chr(10).join([f\"- {comp['name']}: {comp['query'][:50]}...\" for comp in components])\n",
        "    readme_content = readme_template.format(components_list=components_list)\n",
        "\n",
        "    with open(os.path.join(output_dir, \"README.md\"), \"w\") as f:\n",
        "        f.write(readme_content)"
      ]
    },
    {
      "cell_type": "code",
      "execution_count": 33,
      "metadata": {
        "id": "UcPtZNGSeeMp"
      },
      "outputs": [],
      "source": [
        "# Create a main React App component that imports and uses all the generated components.\n",
        "\n",
        "def create_app_file(llm):\n",
        "    prompt = PromptTemplate(\n",
        "        template=app_template,\n",
        "        input_variables=[\"user_query\", \"components_info\"]\n",
        "    )\n",
        "    return prompt | llm | StrOutputParser()"
      ]
    },
    {
      "cell_type": "code",
      "execution_count": 38,
      "metadata": {
        "id": "M_aMiXtmfodK"
      },
      "outputs": [],
      "source": [
        "# Generate React components with enforced design consistency\n",
        "\n",
        "def generate_chained_react_components(user_query, comp_collection, llm, output_dir):\n",
        "\n",
        "    # Extract component queries\n",
        "    extraction_chain = extract_subqueries(llm)\n",
        "    queries_response = extraction_chain.invoke({\"user_query\": user_query})\n",
        "    component_queries = parse_component_queries(queries_response)\n",
        "\n",
        "    print(f\"Extracted {len(component_queries)} React component queries:\")\n",
        "    for i, q in enumerate(component_queries):\n",
        "        print(f\"{i+1}. {q}...\")\n",
        "\n",
        "    # Setup\n",
        "    metadata_chain = extract_metadata(llm)\n",
        "    first_component_chain = create_first_react_component_chain(llm)\n",
        "    subsequent_component_chain = create_subsequent_react_component_chain(llm)\n",
        "\n",
        "    components_dir = os.path.join(output_dir, \"src\", \"components\")\n",
        "    os.makedirs(components_dir, exist_ok=True)\n",
        "    os.makedirs(os.path.join(output_dir, \"src\"), exist_ok=True)\n",
        "\n",
        "    generated_components = []\n",
        "    master_design_system = None\n",
        "    previous_component_code = \"\"\n",
        "\n",
        "    # Generate components with strict consistency\n",
        "    for i, component_query in enumerate(component_queries):\n",
        "        print(f\"\\nGenerating React component {i+1}/{len(component_queries)}...\")\n",
        "\n",
        "        # Get metadata and retrieve base XML\n",
        "        metadata_full = metadata_chain(component_query)\n",
        "        metadata_filter = clean_metadata(metadata_full)\n",
        "        base_xml = retrieve_xml(component_query,comp_collection ,metadata_filter=metadata_filter) or \"No template found\"\n",
        "\n",
        "        if i == 0:\n",
        "            # First component - establish master design system\n",
        "            react_code = first_component_chain.invoke({\n",
        "                \"component_query\": component_query,\n",
        "                \"base_xml\": base_xml,\n",
        "                \"original_query\": user_query\n",
        "            })\n",
        "\n",
        "            # Extract and store the master design system\n",
        "            master_design_system = extract_design_system_comprehensive(react_code)\n",
        "            previous_component_code = react_code\n",
        "\n",
        "        else:\n",
        "            # Subsequent components - enforce design consistency\n",
        "            component_context = f\"Component {i+1} of {len(component_queries)}. Must maintain exact design consistency with previous components.\"\n",
        "\n",
        "            react_code = subsequent_component_chain.invoke({\n",
        "                \"component_query\": component_query,\n",
        "                \"base_xml\": base_xml,\n",
        "                \"previous_design_system\": json.dumps(master_design_system, indent=2),\n",
        "                \"previous_component_code\": previous_component_code,\n",
        "                \"component_context\": component_context\n",
        "            })\n",
        "\n",
        "        # Save component\n",
        "        filename = f\"component_{i+1}.jsx\"\n",
        "        filepath = os.path.join(components_dir, filename)\n",
        "\n",
        "        with open(filepath, \"w\", encoding=\"utf-8\") as f:\n",
        "            f.write(react_code)\n",
        "\n",
        "        generated_components.append({\n",
        "            \"index\": i+1,\n",
        "            \"name\": filename,\n",
        "            \"query\": component_query,\n",
        "            \"metadata\": metadata_filter,\n",
        "            \"code\": react_code,\n",
        "            \"filepath\": filepath,\n",
        "            \"filename\": filename\n",
        "        })\n",
        "\n",
        "        print(f\"Saved: {filename}\")\n",
        "\n",
        "        # Update previous component for context (only for next iteration)\n",
        "        if i < len(component_queries) - 1:\n",
        "            previous_component_code = react_code\n",
        "\n",
        "    return generated_components"
      ]
    },
    {
      "cell_type": "code",
      "execution_count": 39,
      "metadata": {
        "id": "dN3cAIg9iAYu"
      },
      "outputs": [],
      "source": [
        "def generate_react_website(user_query, comp_collection,llm, output_dir):\n",
        "\n",
        "    generated_components = generate_chained_react_components(user_query, comp_collection, llm, output_dir)\n",
        "\n",
        "    if not generated_components:\n",
        "        print(\"No components generated!\")\n",
        "        return None\n",
        "\n",
        "    # create app file\n",
        "    app_chain = create_app_file(llm)\n",
        "    components_info = json.dumps([{\n",
        "        \"name\": comp[\"name\"],\n",
        "        \"filename\": comp[\"filename\"],\n",
        "        \"query\": comp[\"query\"][:50] + \"...\",\n",
        "        \"index\": comp[\"index\"],\n",
        "    } for comp in generated_components], indent=2)\n",
        "\n",
        "    master_design_system = extract_design_system_comprehensive(generated_components[0]['code'])\n",
        "    app_code = app_chain.invoke({\n",
        "        \"user_query\": user_query,\n",
        "        \"components_info\": components_info,\n",
        "        \"design_system\": json.dumps(master_design_system, indent=2) # Pass the actual design system data\n",
        "    })\n",
        "\n",
        "    # Save App.js\n",
        "    app_path = os.path.join(output_dir, \"src\", \"App.js\")\n",
        "    with open(app_path, \"w\", encoding=\"utf-8\") as f:\n",
        "        f.write(app_code)\n",
        "\n",
        "    # Create consistent global styles\n",
        "    css_path = create_global_styles_file(generated_components, output_dir)\n",
        "\n",
        "    # Create other project files\n",
        "    create_react_project_files(output_dir, generated_components)\n",
        "\n",
        "\n",
        "    print(f\"\\n React app generated!\")\n",
        "    print(f\"   Location: {output_dir}\")\n",
        "    print(f\"   Components: {len(generated_components)}\")\n",
        "    print(f\"   Run 'npm install && npm start' to start development server\")\n",
        "\n",
        "    return {\n",
        "        \"components\": generated_components,\n",
        "        \"app_path\": app_path,\n",
        "        \"css_path\": css_path,\n",
        "        \"output_dir\": output_dir,\n",
        "        \"total_components\": len(generated_components),\n",
        "        \"consistency_validated\": True\n",
        "    }"
      ]
    },
    {
      "cell_type": "markdown",
      "metadata": {
        "id": "73eedOxqktgu"
      },
      "source": [
        "# **Run Pipeline**"
      ]
    },
    {
      "cell_type": "code",
      "execution_count": 36,
      "metadata": {
        "id": "BFYW-p3Tks8b"
      },
      "outputs": [],
      "source": [
        "llm = init_langchain_llm(open_ai_key)"
      ]
    },
    {
      "cell_type": "code",
      "execution_count": 40,
      "metadata": {
        "colab": {
          "base_uri": "https://localhost:8080/"
        },
        "id": "_iZlUTnmkncW",
        "outputId": "eaa0eb60-2f46-490d-93fb-8a0623da2131"
      },
      "outputs": [
        {
          "name": "stdout",
          "output_type": "stream",
          "text": [
            "Extracted 4 React component queries:\n",
            "1. Design a sleek, modern navigation bar component for a landing page targeted at creative professionals. Place it at the very top. Layout: a logo on the left, simple horizontal menu links between the logo and the right edge (ensure the 'Team' link is visually highlighted/active), and a contrasting 'Join Us' button on the far right. Use red as the primary accent color for buttons, highlights, and visual emphasis. Include accessible hover/focus states, maintain strong color contrast, and ensure full responsiveness across desktop, tablet, and mobile....\n",
            "2. Create a hero section component for a modern, visually engaging landing page aimed at creative professionals. Use a warm gradient background, a large welcoming headline, and a subtle illustration that depicts creative collaboration in action. Keep the layout clean and spacious with readable, contemporary typography. Apply red as the primary accent color for highlights and emphasis elements while maintaining sufficient color contrast. Ensure responsive behavior and lightweight assets (e.g., SVG illustration) for fast loading....\n",
            "3. Build a team members section component positioned directly below the hero for a landing page targeting creative professionals. Display professional photos, names, roles, and short bios arranged in a neat, responsive grid to showcase diversity and expertise. Keep the design modern and visually engaging with consistent spacing, clear hierarchy, and accessible text contrast. Use red as the primary accent color for section headings, highlights, and hover states....\n",
            "4. Design a minimalist footer component for a landing page for creative professionals. Include social media links, a contact email, and a small copyright note. Keep the style clean and lightweight, using red as the primary accent color for icons or hover states while maintaining accessibility and sufficient contrast. Ensure visual consistency with the rest of the page and full responsiveness....\n",
            "\n",
            "Generating React component 1/4...\n"
          ]
        },
        {
          "name": "stderr",
          "output_type": "stream",
          "text": [
            "/root/.cache/chroma/onnx_models/all-MiniLM-L6-v2/onnx.tar.gz: 100%|██████████| 79.3M/79.3M [00:01<00:00, 43.0MiB/s]\n"
          ]
        },
        {
          "name": "stdout",
          "output_type": "stream",
          "text": [
            "Saved: component_1.jsx\n",
            "\n",
            "Generating React component 2/4...\n",
            "Saved: component_2.jsx\n",
            "\n",
            "Generating React component 3/4...\n",
            "Saved: component_3.jsx\n",
            "\n",
            "Generating React component 4/4...\n",
            "Saved: component_4.jsx\n",
            "\n",
            " React app generated!\n",
            "   Location: /content/drive/MyDrive/pathpik Data/outputs/rag-generated-11\n",
            "   Components: 4\n",
            "   Run 'npm install && npm start' to start development server\n"
          ]
        }
      ],
      "source": [
        "result = generate_react_website(\n",
        "        user_query=user_query,\n",
        "        comp_collection=components_collection,\n",
        "        llm=llm,\n",
        "        output_dir=output_dir\n",
        "    )"
      ]
    }
  ],
  "metadata": {
    "colab": {
      "provenance": []
    },
    "kernelspec": {
      "display_name": "Python 3",
      "name": "python3"
    },
    "language_info": {
      "name": "python"
    }
  },
  "nbformat": 4,
  "nbformat_minor": 0
}
